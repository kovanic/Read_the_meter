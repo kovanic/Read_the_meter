{
 "cells": [
  {
   "cell_type": "code",
   "execution_count": null,
   "metadata": {
    "ExecuteTime": {
     "end_time": "2021-12-02T20:17:36.448439Z",
     "start_time": "2021-12-02T20:17:34.061007Z"
    },
    "execution": {
     "iopub.execute_input": "2021-12-03T19:08:48.046657Z",
     "iopub.status.busy": "2021-12-03T19:08:48.046357Z",
     "iopub.status.idle": "2021-12-03T19:08:48.054828Z",
     "shell.execute_reply": "2021-12-03T19:08:48.05412Z",
     "shell.execute_reply.started": "2021-12-03T19:08:48.046625Z"
    },
    "id": "85_HkTjcNZeg"
   },
   "outputs": [],
   "source": [
    "import torch\n",
    "import random\n",
    "import numpy as np\n",
    "from PIL import Image\n",
    "import torchvision\n",
    "random.seed(0)\n",
    "np.random.seed(0)\n",
    "torch.manual_seed(0)\n",
    "torch.cuda.manual_seed(0)\n",
    "torch.backends.cudnn.deterministic = True"
   ]
  },
  {
   "cell_type": "code",
   "execution_count": null,
   "metadata": {
    "ExecuteTime": {
     "end_time": "2021-12-02T20:17:37.932362Z",
     "start_time": "2021-12-02T20:17:37.67075Z"
    },
    "execution": {
     "iopub.execute_input": "2021-12-03T19:08:46.42192Z",
     "iopub.status.busy": "2021-12-03T19:08:46.421661Z",
     "iopub.status.idle": "2021-12-03T19:08:46.426553Z",
     "shell.execute_reply": "2021-12-03T19:08:46.425565Z",
     "shell.execute_reply.started": "2021-12-03T19:08:46.421879Z"
    },
    "id": "kjPVw9UfNZel"
   },
   "outputs": [],
   "source": [
    "import torchvision.datasets"
   ]
  },
  {
   "cell_type": "code",
   "execution_count": null,
   "metadata": {
    "ExecuteTime": {
     "end_time": "2021-12-02T20:18:09.970269Z",
     "start_time": "2021-12-02T20:17:40.808789Z"
    },
    "execution": {
     "iopub.execute_input": "2021-12-03T19:08:54.623678Z",
     "iopub.status.busy": "2021-12-03T19:08:54.623363Z",
     "iopub.status.idle": "2021-12-03T19:08:56.725531Z",
     "shell.execute_reply": "2021-12-03T19:08:56.724841Z",
     "shell.execute_reply.started": "2021-12-03T19:08:54.623643Z"
    },
    "id": "buWKcUqGNZeo"
   },
   "outputs": [],
   "source": [
    "transforms = torchvision.transforms.Compose([\n",
    "    torchvision.transforms.RandomHorizontalFlip(p=0.05),\n",
    "    torchvision.transforms.RandomVerticalFlip(p=0.05),\n",
    "    torchvision.transforms.RandomRotation([90, 180])\n",
    "])\n",
    "\n",
    "MNIST_train = torchvision.datasets.MNIST('./', download=True, train=True,transform=transforms)\n",
    "MNIST_test = torchvision.datasets.MNIST('./', download=True, train=False,transform=transforms)"
   ]
  },
  {
   "cell_type": "code",
   "execution_count": null,
   "metadata": {
    "ExecuteTime": {
     "end_time": "2021-12-02T20:18:28.897935Z",
     "start_time": "2021-12-02T20:18:28.891935Z"
    },
    "execution": {
     "iopub.execute_input": "2021-12-03T19:09:02.257018Z",
     "iopub.status.busy": "2021-12-03T19:09:02.256458Z",
     "iopub.status.idle": "2021-12-03T19:09:02.523495Z",
     "shell.execute_reply": "2021-12-03T19:09:02.522771Z",
     "shell.execute_reply.started": "2021-12-03T19:09:02.256977Z"
    },
    "id": "nyrpGOtPNZeq"
   },
   "outputs": [],
   "source": [
    "X_train = MNIST_train.data/255\n",
    "y_train = MNIST_train.targets\n",
    "X_test = MNIST_test.data/255\n",
    "y_test = MNIST_test.targets"
   ]
  },
  {
   "cell_type": "code",
   "execution_count": null,
   "metadata": {
    "execution": {
     "iopub.execute_input": "2021-12-03T00:22:05.078338Z",
     "iopub.status.busy": "2021-12-03T00:22:05.07761Z",
     "iopub.status.idle": "2021-12-03T00:22:05.43937Z",
     "shell.execute_reply": "2021-12-03T00:22:05.438637Z",
     "shell.execute_reply.started": "2021-12-03T00:22:05.078301Z"
    },
    "id": "f_TmOTWdNZet",
    "outputId": "c78af945-67f1-49e4-b14b-3aef698c2022"
   },
   "outputs": [],
   "source": [
    "X_train = (X_train - X_train.min())/(X_train.max() - X_train.min())\n",
    "X_test = (X_test - X_test.min())/(X_test.max() - X_test.min())"
   ]
  },
  {
   "cell_type": "code",
   "execution_count": null,
   "metadata": {
    "execution": {
     "iopub.execute_input": "2021-12-03T13:04:55.943833Z",
     "iopub.status.busy": "2021-12-03T13:04:55.943019Z",
     "iopub.status.idle": "2021-12-03T13:04:55.986948Z",
     "shell.execute_reply": "2021-12-03T13:04:55.986014Z",
     "shell.execute_reply.started": "2021-12-03T13:04:55.943795Z"
    }
   },
   "outputs": [],
   "source": [
    "X_test.max()"
   ]
  },
  {
   "cell_type": "code",
   "execution_count": null,
   "metadata": {
    "execution": {
     "iopub.execute_input": "2021-12-03T02:15:35.475691Z",
     "iopub.status.busy": "2021-12-03T02:15:35.474889Z",
     "iopub.status.idle": "2021-12-03T02:15:35.681899Z",
     "shell.execute_reply": "2021-12-03T02:15:35.680883Z",
     "shell.execute_reply.started": "2021-12-03T02:15:35.475646Z"
    },
    "id": "Zd-E4vIpNZe1",
    "outputId": "39d74e9c-5377-4715-928a-052133a7fcb8"
   },
   "outputs": [],
   "source": [
    "import matplotlib.pyplot as plt\n",
    "plt.imshow(X_train[0, :, :])\n",
    "plt.show()\n",
    "print(y_train[0])"
   ]
  },
  {
   "cell_type": "code",
   "execution_count": null,
   "metadata": {
    "execution": {
     "iopub.execute_input": "2021-12-03T19:09:07.138958Z",
     "iopub.status.busy": "2021-12-03T19:09:07.138499Z",
     "iopub.status.idle": "2021-12-03T19:09:07.145883Z",
     "shell.execute_reply": "2021-12-03T19:09:07.145161Z",
     "shell.execute_reply.started": "2021-12-03T19:09:07.138918Z"
    },
    "id": "Tf9LiDGuNZe6"
   },
   "outputs": [],
   "source": [
    "X_train = X_train.unsqueeze(1).float()\n",
    "X_test = X_test.unsqueeze(1).float()"
   ]
  },
  {
   "cell_type": "code",
   "execution_count": null,
   "metadata": {
    "execution": {
     "iopub.execute_input": "2021-12-03T19:09:10.564042Z",
     "iopub.status.busy": "2021-12-03T19:09:10.563513Z",
     "iopub.status.idle": "2021-12-03T19:09:10.57745Z",
     "shell.execute_reply": "2021-12-03T19:09:10.576743Z",
     "shell.execute_reply.started": "2021-12-03T19:09:10.564002Z"
    },
    "id": "R9CMRk6PTDOn"
   },
   "outputs": [],
   "source": [
    "class MNISTNet(torch.nn.Module):\n",
    "    def __init__(self):\n",
    "        super(MNISTNet, self).__init__()        \n",
    "\n",
    "        activation_function  = torch.nn.Tanh()\n",
    "        pooling_layer  = torch.nn.MaxPool2d(kernel_size=2, stride=2)\n",
    "\n",
    "        self.conv1_1 = torch.nn.Conv2d(\n",
    "            in_channels=1, out_channels=6, kernel_size=3, padding=1)\n",
    "        self.conv1_2 = torch.nn.Conv2d(\n",
    "            in_channels=6, out_channels=6, kernel_size=3, padding=1)\n",
    "        \n",
    "        self.act1 = activation_function\n",
    "        self.bn1 = torch.nn.BatchNorm2d(num_features=6)\n",
    "        self.pool1 = pooling_layer\n",
    "       \n",
    "\n",
    "        self.conv2_1 = torch.nn.Conv2d(\n",
    "            in_channels=6, out_channels=16, kernel_size=3, padding=0)\n",
    "        self.conv2_2 = torch.nn.Conv2d(\n",
    "            in_channels=16, out_channels=16, kernel_size=3, padding=0)\n",
    "\n",
    "        self.act2 = activation_function\n",
    "        self.bn2 = torch.nn.BatchNorm2d(num_features=16)\n",
    "        self.pool2 = pooling_layer\n",
    "        \n",
    "        self.fc1 = torch.nn.Linear(5 * 5 * 16, 120)\n",
    "        self.act3 = activation_function\n",
    "    \n",
    "        self.fc2 = torch.nn.Linear(120, 84)\n",
    "        self.act4 = activation_function\n",
    "        \n",
    "        self.fc3 = torch.nn.Linear(84, 10)\n",
    "    \n",
    "    def forward(self, x):\n",
    "\n",
    "        x = self.conv1_2(self.conv1_1(x))\n",
    "        x = self.act1(x)\n",
    "        x = self.bn1(x)\n",
    "        x = self.pool1(x)\n",
    "        x = self.conv2_2(self.conv2_1(x))\n",
    "        x = self.act2(x)\n",
    "        x = self.bn2(x)\n",
    "        x = self.pool2(x)\n",
    "        x = x.view(x.size(0), x.size(1) * x.size(2) * x.size(3))\n",
    "        x = self.fc1(x)\n",
    "        x = self.act3(x)\n",
    "        x = self.fc2(x)\n",
    "        x = self.act4(x)\n",
    "        x = self.fc3(x)\n",
    "        \n",
    "        return x"
   ]
  },
  {
   "cell_type": "code",
   "execution_count": null,
   "metadata": {
    "execution": {
     "iopub.execute_input": "2021-12-03T19:09:18.139982Z",
     "iopub.status.busy": "2021-12-03T19:09:18.139701Z",
     "iopub.status.idle": "2021-12-03T19:09:18.149544Z",
     "shell.execute_reply": "2021-12-03T19:09:18.148887Z",
     "shell.execute_reply.started": "2021-12-03T19:09:18.13995Z"
    }
   },
   "outputs": [],
   "source": [
    "def train(net, X_train, y_train, X_test, y_test):\n",
    "    device = torch.device('cuda:0' if torch.cuda.is_available() else 'cpu')\n",
    "    net = net.to(device)\n",
    "    loss = torch.nn.CrossEntropyLoss()\n",
    "    optimizer = torch.optim.Adam(net.parameters(), lr=1.0e-4)\n",
    "    \n",
    "    batch_size = 500\n",
    "\n",
    "    test_accuracy_history = []\n",
    "    test_loss_history = []\n",
    "\n",
    "    X_test = X_test.to(device)\n",
    "    y_test = y_test.to(device)\n",
    "\n",
    "    for epoch in range(50):\n",
    "        order = np.random.permutation(len(X_train))\n",
    "        for start_index in range(0, len(X_train), batch_size):\n",
    "            optimizer.zero_grad()\n",
    "            net.train()\n",
    "\n",
    "            batch_indexes = order[start_index:start_index+batch_size]\n",
    "\n",
    "            X_batch = X_train[batch_indexes].to(device)\n",
    "            y_batch = y_train[batch_indexes].to(device)\n",
    "\n",
    "            preds = net.forward(X_batch) \n",
    "\n",
    "            loss_value = loss(preds, y_batch)\n",
    "            loss_value.backward()\n",
    "\n",
    "            optimizer.step()\n",
    "\n",
    "        net.eval()\n",
    "        test_preds = net.forward(X_test)\n",
    "        test_loss_history.append(loss(test_preds, y_test).data.cpu())\n",
    "\n",
    "        accuracy = (test_preds.argmax(dim=1) == y_test).float().mean().data.cpu()\n",
    "        test_accuracy_history.append(accuracy)\n",
    "        print(f'{epoch}/30: {accuracy}')\n",
    "\n",
    "\n",
    "    return test_accuracy_history, test_loss_history\n"
   ]
  },
  {
   "cell_type": "code",
   "execution_count": null,
   "metadata": {
    "execution": {
     "iopub.execute_input": "2021-12-03T19:09:21.933694Z",
     "iopub.status.busy": "2021-12-03T19:09:21.933156Z",
     "iopub.status.idle": "2021-12-03T19:10:23.422184Z",
     "shell.execute_reply": "2021-12-03T19:10:23.421417Z",
     "shell.execute_reply.started": "2021-12-03T19:09:21.933654Z"
    }
   },
   "outputs": [],
   "source": [
    "net = MNISTNet()\n",
    "\n",
    "accuracies, losses = train(net, X_train, y_train, X_test, y_test)"
   ]
  },
  {
   "cell_type": "code",
   "execution_count": null,
   "metadata": {
    "execution": {
     "iopub.execute_input": "2021-12-03T19:11:02.581637Z",
     "iopub.status.busy": "2021-12-03T19:11:02.581384Z",
     "iopub.status.idle": "2021-12-03T19:11:02.796543Z",
     "shell.execute_reply": "2021-12-03T19:11:02.795824Z",
     "shell.execute_reply.started": "2021-12-03T19:11:02.581608Z"
    }
   },
   "outputs": [],
   "source": [
    "import matplotlib.pyplot as plt\n",
    "plt.plot(losses)"
   ]
  },
  {
   "cell_type": "code",
   "execution_count": null,
   "metadata": {
    "execution": {
     "iopub.execute_input": "2021-12-03T19:11:06.675657Z",
     "iopub.status.busy": "2021-12-03T19:11:06.67515Z",
     "iopub.status.idle": "2021-12-03T19:11:06.886428Z",
     "shell.execute_reply": "2021-12-03T19:11:06.885702Z",
     "shell.execute_reply.started": "2021-12-03T19:11:06.675622Z"
    }
   },
   "outputs": [],
   "source": [
    "plt.plot(accuracies)"
   ]
  },
  {
   "cell_type": "code",
   "execution_count": null,
   "metadata": {
    "execution": {
     "iopub.execute_input": "2021-12-03T19:11:30.69405Z",
     "iopub.status.busy": "2021-12-03T19:11:30.693777Z",
     "iopub.status.idle": "2021-12-03T19:11:30.705804Z",
     "shell.execute_reply": "2021-12-03T19:11:30.704963Z",
     "shell.execute_reply.started": "2021-12-03T19:11:30.694021Z"
    }
   },
   "outputs": [],
   "source": [
    "torch.save(net.state_dict(), './mnist_net_99.pt')"
   ]
  }
 ],
 "metadata": {
  "kernelspec": {
   "display_name": "Python 3",
   "language": "python",
   "name": "python3"
  },
  "language_info": {
   "codemirror_mode": {
    "name": "ipython",
    "version": 3
   },
   "file_extension": ".py",
   "mimetype": "text/x-python",
   "name": "python",
   "nbconvert_exporter": "python",
   "pygments_lexer": "ipython3",
   "version": "3.8.3"
  },
  "latex_envs": {
   "LaTeX_envs_menu_present": true,
   "autoclose": false,
   "autocomplete": true,
   "bibliofile": "biblio.bib",
   "cite_by": "apalike",
   "current_citInitial": 1,
   "eqLabelWithNumbers": true,
   "eqNumInitial": 1,
   "hotkeys": {
    "equation": "Ctrl-E",
    "itemize": "Ctrl-I"
   },
   "labels_anchors": false,
   "latex_user_defs": false,
   "report_style_numbering": false,
   "user_envs_cfg": false
  }
 },
 "nbformat": 4,
 "nbformat_minor": 4
}
