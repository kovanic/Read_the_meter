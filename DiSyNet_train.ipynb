{
 "cells": [
  {
   "cell_type": "code",
   "execution_count": 92,
   "metadata": {
    "ExecuteTime": {
     "end_time": "2021-12-02T20:17:36.448439Z",
     "start_time": "2021-12-02T20:17:34.061007Z"
    },
    "id": "85_HkTjcNZeg",
    "tags": []
   },
   "outputs": [],
   "source": [
    "import torch\n",
    "from torch.utils.data import Dataset, DataLoader, Subset\n",
    "import random\n",
    "import numpy as np\n",
    "from sklearn.model_selection import train_test_split\n",
    "import matplotlib.pyplot as plt\n",
    "import os\n",
    "\n",
    "random.seed(0)\n",
    "np.random.seed(0)\n",
    "torch.manual_seed(0)\n",
    "torch.cuda.manual_seed(0)\n",
    "torch.backends.cudnn.deterministic = True"
   ]
  },
  {
   "cell_type": "code",
   "execution_count": 118,
   "metadata": {},
   "outputs": [],
   "source": [
    "class CustomDigitsDataset(Dataset):\n",
    "    def __init__(self, annotations_file, img_dir):\n",
    "        self.targets = np.load(annotations_file)\n",
    "        self.img_dir = img_dir\n",
    "\n",
    "    def __len__(self):\n",
    "        return len(self.targets)\n",
    "\n",
    "    def __getitem__(self, idx):\n",
    "        img_path = os.path.join(self.img_dir, f'{idx}.npy')\n",
    "        image = torch.FloatTensor(np.load(img_path))\n",
    "        label = self.targets[idx]\n",
    "        return image, label"
   ]
  },
  {
   "cell_type": "code",
   "execution_count": 119,
   "metadata": {},
   "outputs": [],
   "source": [
    "data = CustomDigitsDataset('DIGITS_SYN_TARGET.npy','DIGITS_SYN/')"
   ]
  },
  {
   "cell_type": "code",
   "execution_count": 134,
   "metadata": {
    "ExecuteTime": {
     "end_time": "2021-12-02T20:18:28.897935Z",
     "start_time": "2021-12-02T20:18:28.891935Z"
    },
    "id": "nyrpGOtPNZeq",
    "tags": []
   },
   "outputs": [],
   "source": [
    "train_indices, test_indices, _, _ = train_test_split(range(len(data)), data.targets ,stratify=data.targets, test_size=0.1, random_state=42, shuffle=True)\n",
    "\n",
    "train_split = Subset(data, train_indices)\n",
    "test_split = Subset(data, test_indices)\n",
    "\n",
    "train_loader = DataLoader(train_split, batch_size=1000, shuffle=True)\n",
    "test_loader = DataLoader(test_split, batch_size=len(test_split), shuffle=True)"
   ]
  },
  {
   "cell_type": "code",
   "execution_count": 129,
   "metadata": {
    "id": "R9CMRk6PTDOn",
    "tags": []
   },
   "outputs": [],
   "source": [
    "class DiSyNet(torch.nn.Module):\n",
    "    def __init__(self):\n",
    "        super(DiSyNet, self).__init__()        \n",
    "\n",
    "        activation_function  = torch.nn.Tanh()\n",
    "        pooling_layer  = torch.nn.MaxPool2d(kernel_size=2, stride=2)\n",
    "\n",
    "        self.conv1_1 = torch.nn.Conv2d(\n",
    "            in_channels=1, out_channels=6, kernel_size=3, padding=1)\n",
    "        self.conv1_2 = torch.nn.Conv2d(\n",
    "            in_channels=6, out_channels=6, kernel_size=3, padding=1)\n",
    "        \n",
    "        self.act1 = activation_function\n",
    "        self.bn1 = torch.nn.BatchNorm2d(num_features=6)\n",
    "        self.pool1 = pooling_layer\n",
    "       \n",
    "        self.conv2_1 = torch.nn.Conv2d(\n",
    "            in_channels=6, out_channels=16, kernel_size=3, padding=0)\n",
    "        self.conv2_2 = torch.nn.Conv2d(\n",
    "            in_channels=16, out_channels=16, kernel_size=3, padding=0)\n",
    "\n",
    "        self.act2 = activation_function\n",
    "        self.bn2 = torch.nn.BatchNorm2d(num_features=16)\n",
    "        self.pool2 = pooling_layer\n",
    "        \n",
    "        self.fc1 = torch.nn.Linear(2912, 120)\n",
    "        self.act3 = activation_function\n",
    "    \n",
    "        self.fc2 = torch.nn.Linear(120, 84)\n",
    "        self.act4 = activation_function\n",
    "        \n",
    "        self.fc3 = torch.nn.Linear(84, 20)\n",
    "    \n",
    "    def forward(self, x):\n",
    "\n",
    "        x = self.conv1_2(self.conv1_1(x))\n",
    "        x = self.act1(x)\n",
    "        x = self.bn1(x)\n",
    "        x = self.pool1(x)\n",
    "        x = self.conv2_2(self.conv2_1(x))\n",
    "        x = self.act2(x)\n",
    "        x = self.bn2(x)\n",
    "        x = self.pool2(x)\n",
    "        # print(x.size(1) * x.size(2) * x.size(3))\n",
    "        x = x.view(x.size(0), x.size(1) * x.size(2) * x.size(3))\n",
    "        x = self.fc1(x)\n",
    "        x = self.act3(x)\n",
    "        x = self.fc2(x)\n",
    "        x = self.act4(x)\n",
    "        x = self.fc3(x)\n",
    "        \n",
    "        return x"
   ]
  },
  {
   "cell_type": "code",
   "execution_count": 135,
   "metadata": {
    "tags": []
   },
   "outputs": [],
   "source": [
    "def train(net, train_loader, test_loader):\n",
    "    device = torch.device('cuda:0' if torch.cuda.is_available() else 'cpu')\n",
    "    net = net.to(device)\n",
    "    loss = torch.nn.CrossEntropyLoss()\n",
    "    optimizer = torch.optim.Adam(net.parameters(), lr=1.0e-4)\n",
    "\n",
    "    test_accuracy_history = []\n",
    "    test_loss_history = []\n",
    "\n",
    "    for X_test, y_test in test_loader:\n",
    "        X_test = X_test.unsqueeze(1).to(device)\n",
    "        y_test = y_test.to(device)\n",
    "\n",
    "    for epoch in range(50):        \n",
    "        for X_batch, y_batch in train_loader:\n",
    "        \n",
    "            optimizer.zero_grad()\n",
    "            net.train()\n",
    "\n",
    "            X_batch = X_batch.unsqueeze(1).to(device)\n",
    "            y_batch = y_batch.to(device)\n",
    "\n",
    "            preds = net.forward(X_batch) \n",
    "\n",
    "            loss_value = loss(preds, y_batch)\n",
    "            loss_value.backward()\n",
    "\n",
    "            optimizer.step()\n",
    "\n",
    "        net.eval()\n",
    "        test_preds = net.forward(X_test)\n",
    "        test_loss_history.append(loss(test_preds, y_test).data.cpu())\n",
    "\n",
    "        accuracy = (test_preds.argmax(dim=1) == y_test).float().mean().data.cpu()\n",
    "        test_accuracy_history.append(accuracy)\n",
    "        print(f'{epoch}/50: {accuracy}')\n",
    "\n",
    "\n",
    "    return test_accuracy_history, test_loss_history\n"
   ]
  },
  {
   "cell_type": "code",
   "execution_count": null,
   "metadata": {
    "tags": []
   },
   "outputs": [
    {
     "name": "stdout",
     "output_type": "stream",
     "text": [
      "0/50: 0.8338888883590698\n",
      "1/50: 0.8907407522201538\n",
      "2/50: 0.9161111116409302\n",
      "3/50: 0.9342592358589172\n",
      "4/50: 0.9469135999679565\n",
      "5/50: 0.9593827128410339\n",
      "6/50: 0.9681481719017029\n",
      "7/50: 0.9750617146492004\n",
      "8/50: 0.9818518757820129\n",
      "9/50: 0.9863580465316772\n",
      "10/50: 0.987407386302948\n"
     ]
    }
   ],
   "source": [
    "net = DiSyNet()\n",
    "accuracies, losses = train(net, train_loader, test_loader)"
   ]
  },
  {
   "cell_type": "code",
   "execution_count": 139,
   "metadata": {
    "tags": []
   },
   "outputs": [],
   "source": [
    "plt.plot(losses)"
   ]
  },
  {
   "cell_type": "code",
   "execution_count": null,
   "metadata": {
    "execution": {
     "iopub.execute_input": "2021-12-03T19:11:06.675657Z",
     "iopub.status.busy": "2021-12-03T19:11:06.67515Z",
     "iopub.status.idle": "2021-12-03T19:11:06.886428Z",
     "shell.execute_reply": "2021-12-03T19:11:06.885702Z",
     "shell.execute_reply.started": "2021-12-03T19:11:06.675622Z"
    }
   },
   "outputs": [],
   "source": [
    "plt.plot(accuracies)"
   ]
  },
  {
   "cell_type": "code",
   "execution_count": 137,
   "metadata": {
    "tags": []
   },
   "outputs": [],
   "source": [
    "torch.save(net.state_dict(), './DySyNet_state_dict.pt')"
   ]
  },
  {
   "cell_type": "code",
   "execution_count": null,
   "metadata": {},
   "outputs": [],
   "source": []
  },
  {
   "cell_type": "code",
   "execution_count": null,
   "metadata": {},
   "outputs": [],
   "source": []
  },
  {
   "cell_type": "code",
   "execution_count": 113,
   "metadata": {},
   "outputs": [
    {
     "data": {
      "text/plain": [
       "<matplotlib.image.AxesImage at 0x7f8acd27afd0>"
      ]
     },
     "execution_count": 113,
     "metadata": {},
     "output_type": "execute_result"
    },
    {
     "data": {
      "image/png": "[encoded data removed]",
      "text/plain": [
       "<Figure size 432x288 with 1 Axes>"
      ]
     },
     "metadata": {
      "needs_background": "light"
     },
     "output_type": "display_data"
    }
   ],
   "source": [
    "plt.imshow(X_test[0][0].cpu().detach().numpy())"
   ]
  },
  {
   "cell_type": "code",
   "execution_count": 117,
   "metadata": {},
   "outputs": [
    {
     "data": {
      "text/plain": [
       "Text(0.5, 1.0, '0')"
      ]
     },
     "execution_count": 117,
     "metadata": {},
     "output_type": "execute_result"
    },
    {
     "data": {
      "image/png": "[encoded data removed]",
      "text/plain": [
       "<Figure size 432x288 with 1 Axes>"
      ]
     },
     "metadata": {
      "needs_background": "light"
     },
     "output_type": "display_data"
    }
   ],
   "source": [
    "img = np.load('DIGITS_SYN/101.npy')\n",
    "label = np.load('DIGITS_SYN_TARGET.npy')[3]\n",
    "plt.imshow(img)\n",
    "plt.title(label)\n"
   ]
  }
 ],
 "metadata": {
  "environment": {
   "kernel": "python3",
   "name": "common-cu110.m86",
   "type": "gcloud",
   "uri": "gcr.io/deeplearning-platform-release/base-cu110:m86"
  },
  "kernelspec": {
   "display_name": "Python 3",
   "language": "python",
   "name": "python3"
  },
  "language_info": {
   "codemirror_mode": {
    "name": "ipython",
    "version": 3
   },
   "file_extension": ".py",
   "mimetype": "text/x-python",
   "name": "python",
   "nbconvert_exporter": "python",
   "pygments_lexer": "ipython3",
   "version": "3.8.3"
  },
  "latex_envs": {
   "LaTeX_envs_menu_present": true,
   "autoclose": false,
   "autocomplete": true,
   "bibliofile": "biblio.bib",
   "cite_by": "apalike",
   "current_citInitial": 1,
   "eqLabelWithNumbers": true,
   "eqNumInitial": 1,
   "hotkeys": {
    "equation": "Ctrl-E",
    "itemize": "Ctrl-I"
   },
   "labels_anchors": false,
   "latex_user_defs": false,
   "report_style_numbering": false,
   "user_envs_cfg": false
  }
 },
 "nbformat": 4,
 "nbformat_minor": 4
}
